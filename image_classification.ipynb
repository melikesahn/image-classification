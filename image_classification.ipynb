{
  "cells": [
    {
      "cell_type": "markdown",
      "metadata": {
        "id": "view-in-github",
        "colab_type": "text"
      },
      "source": [
        "<a href=\"https://colab.research.google.com/github/melikesahn/image-classification/blob/main/image_classification.ipynb\" target=\"_parent\"><img src=\"https://colab.research.google.com/assets/colab-badge.svg\" alt=\"Open In Colab\"/></a>"
      ]
    },
    {
      "cell_type": "code",
      "execution_count": null,
      "metadata": {
        "colab": {
          "base_uri": "https://localhost:8080/"
        },
        "id": "Ng0a4ZQpVmbE",
        "outputId": "c90b5427-7b98-412f-f81b-2a8e78301299"
      },
      "outputs": [
        {
          "output_type": "stream",
          "name": "stdout",
          "text": [
            "Drive already mounted at /content/gdrive; to attempt to forcibly remount, call drive.mount(\"/content/gdrive\", force_remount=True).\n"
          ]
        }
      ],
      "source": [
        "from google.colab import drive\n",
        "drive.mount('/content/gdrive')"
      ]
    },
    {
      "cell_type": "code",
      "execution_count": null,
      "metadata": {
        "colab": {
          "base_uri": "https://localhost:8080/"
        },
        "id": "5s8AooZWgvvv",
        "outputId": "93bcfbcb-3216-4171-a87f-b313e78f011e"
      },
      "outputs": [
        {
          "output_type": "stream",
          "name": "stdout",
          "text": [
            "/content/gdrive/MyDrive/ilac15\n"
          ]
        }
      ],
      "source": [
        "%cd /content/gdrive/MyDrive/ilac15"
      ]
    },
    {
      "cell_type": "code",
      "execution_count": null,
      "metadata": {
        "colab": {
          "base_uri": "https://localhost:8080/",
          "height": 36
        },
        "id": "9AXTntcPnbr4",
        "outputId": "be8612df-0ec0-4530-e31d-7642ece20dd2"
      },
      "outputs": [
        {
          "output_type": "execute_result",
          "data": {
            "text/plain": [
              "''"
            ],
            "application/vnd.google.colaboratory.intrinsic+json": {
              "type": "string"
            }
          },
          "metadata": {},
          "execution_count": 11
        }
      ],
      "source": [
        "import tensorflow as tf\n",
        "tf.test.gpu_device_name()"
      ]
    },
    {
      "cell_type": "code",
      "execution_count": null,
      "metadata": {
        "colab": {
          "base_uri": "https://localhost:8080/"
        },
        "id": "Nl2TlNpmnzrt",
        "outputId": "54ac38fa-2801-4a87-9f39-b749014cbffe"
      },
      "outputs": [
        {
          "output_type": "execute_result",
          "data": {
            "text/plain": [
              "[name: \"/device:CPU:0\"\n",
              " device_type: \"CPU\"\n",
              " memory_limit: 268435456\n",
              " locality {\n",
              " }\n",
              " incarnation: 14228875552867471568\n",
              " xla_global_id: -1]"
            ]
          },
          "metadata": {},
          "execution_count": 12
        }
      ],
      "source": [
        "from tensorflow.python.client import device_lib\n",
        "device_lib.list_local_devices()"
      ]
    },
    {
      "cell_type": "code",
      "execution_count": null,
      "metadata": {
        "id": "SC8SEjbToNL7"
      },
      "outputs": [],
      "source": [
        "from keras.preprocessing.image import ImageDataGenerator\n",
        "from keras.models import Sequential\n",
        "\n",
        "from keras.layers import Conv2D, MaxPooling2D\n",
        "\n",
        "from keras.layers import Activation, Dropout, Flatten, Dense\n",
        "from keras import backend as K\n",
        "\n",
        "#giriş verileri boyutları\n",
        "img_width ,img_height=224, 224\n",
        "train_data_yolu='/content/gdrive/MyDrive/ilac15/train'\n",
        "validation_data_yolu='/content/gdrive/MyDrive/ilac15/validation'\n",
        "train_ornek_sayisi=492\n",
        "validation_ornek_sayisi=117\n",
        "epochs=20\n",
        "batch_size=1 #her seferinde eğitim için alınacak veri miktarı\n",
        "#train_ornek sayisi,validation_ornek_sayisi batch_size ile tam bölünmeli\n",
        "if K.image_data_format() == 'channels_first':\n",
        "    input_shape = (3, img_width, img_height)\n",
        "else:\n",
        "    input_shape = (img_width, img_height, 3)\n"
      ]
    },
    {
      "cell_type": "code",
      "execution_count": null,
      "metadata": {
        "id": "8BJXdaYbG4Ts"
      },
      "outputs": [],
      "source": [
        "#model oluşturma\n",
        "model=Sequential()\n",
        "#giriiş katmanı ve conv1\n",
        "model.add(Conv2D(32,(3,3),input_shape=input_shape)) #32 filtre sayısı 3x3 konvulsuyon boyutu\n",
        "model.add(Activation('relu'))\n",
        "model.add(MaxPooling2D(pool_size=(2,2)))        # 2x2 moxpool uygulanmış yani resim boyutu yarıya indiriliyor\n",
        "#conv2\n",
        "model.add(Conv2D(32,(5,5)))\n",
        "model.add(Conv2D(32,(3,3)))\n",
        "model.add(Activation('relu'))\n",
        "model.add(MaxPooling2D(pool_size=(2,2)))\n",
        "#conv3\n",
        "model.add(Conv2D(64,(3,3)))\n",
        "model.add(Activation('relu'))\n",
        "model.add(MaxPooling2D(pool_size=(2,2)))\n",
        "#flatten düzleştirme\n",
        "model.add(Flatten())\n",
        "#Dense=FC oluşturuluyor\n",
        "model.add(Dense(64))  #64 nöron var\n",
        "model.add(Activation('relu'))\n",
        "model.add(Dropout(0.5))\n",
        "model.add(Dense(15)) # 15 class var\n",
        "model.add(Activation('sigmoid'))\n",
        "# model derleme\n",
        "model.compile(loss='categorical_crossentropy', optimizer='rmsprop', metrics=['accuracy'])\n",
        "\n",
        "\n"
      ]
    },
    {
      "cell_type": "code",
      "execution_count": null,
      "metadata": {
        "id": "PkyU6BnlN9V4",
        "colab": {
          "base_uri": "https://localhost:8080/"
        },
        "outputId": "c5fa140b-5403-4c59-938e-1d92f236364d"
      },
      "outputs": [
        {
          "output_type": "stream",
          "name": "stdout",
          "text": [
            "Found 492 images belonging to 15 classes.\n",
            "Found 117 images belonging to 15 classes.\n"
          ]
        }
      ],
      "source": [
        "#train işlemi için kullanılan verileri çoğaltıyor\n",
        "train_datalar=ImageDataGenerator(\n",
        "    rescale=1. /255,\n",
        "    rotation_range=40,\n",
        "    width_shift_range=0.2,\n",
        "    height_shift_range=0.2,\n",
        "    shear_range=0.2,\n",
        "    zoom_range=0.2,\n",
        "    fill_mode='nearest',\n",
        "    horizontal_flip=True\n",
        "\n",
        ")\n",
        "#test iişelemi için görüntüleri rescle boyutlandırma\n",
        "test_datalar=ImageDataGenerator(rescale=1. /255)\n",
        "\n",
        "train_generator=train_datalar.flow_from_directory(\n",
        "    train_data_yolu,\n",
        "    target_size=(img_width,img_height),\n",
        "    batch_size=batch_size,\n",
        "    class_mode='categorical'\n",
        ")\n",
        "\n",
        "\n",
        "validation_generator = test_datalar.flow_from_directory(\n",
        "    validation_data_yolu,\n",
        "    target_size=(img_width, img_height),\n",
        "    batch_size=batch_size,\n",
        "    class_mode='categorical')\n"
      ]
    },
    {
      "cell_type": "code",
      "execution_count": null,
      "metadata": {
        "id": "yfs8tiVOQfsK",
        "colab": {
          "base_uri": "https://localhost:8080/"
        },
        "outputId": "163f6057-2505-414d-e098-88a41fc33fa1"
      },
      "outputs": [
        {
          "output_type": "stream",
          "name": "stderr",
          "text": [
            "<ipython-input-16-5f1d5ed06048>:2: UserWarning: `Model.fit_generator` is deprecated and will be removed in a future version. Please use `Model.fit`, which supports generators.\n",
            "  model.fit_generator(\n"
          ]
        },
        {
          "output_type": "stream",
          "name": "stdout",
          "text": [
            "Epoch 1/20\n",
            "492/492 [==============================] - 365s 739ms/step - loss: 2.8504 - accuracy: 0.0813 - val_loss: 2.5620 - val_accuracy: 0.1026\n",
            "Epoch 2/20\n",
            "492/492 [==============================] - 306s 621ms/step - loss: 2.6384 - accuracy: 0.1626 - val_loss: 2.4642 - val_accuracy: 0.1880\n",
            "Epoch 3/20\n",
            "492/492 [==============================] - 306s 620ms/step - loss: 2.5200 - accuracy: 0.1768 - val_loss: 2.3745 - val_accuracy: 0.2735\n",
            "Epoch 4/20\n",
            "492/492 [==============================] - 305s 619ms/step - loss: 2.4338 - accuracy: 0.2541 - val_loss: 2.5017 - val_accuracy: 0.3077\n",
            "Epoch 5/20\n",
            "492/492 [==============================] - 300s 610ms/step - loss: 2.2304 - accuracy: 0.3211 - val_loss: 5.3647 - val_accuracy: 0.2735\n",
            "Epoch 6/20\n",
            "492/492 [==============================] - 300s 609ms/step - loss: 2.3136 - accuracy: 0.3415 - val_loss: 3.5290 - val_accuracy: 0.2821\n",
            "Epoch 7/20\n",
            "492/492 [==============================] - 305s 618ms/step - loss: 2.2224 - accuracy: 0.3435 - val_loss: 1.9909 - val_accuracy: 0.3333\n",
            "Epoch 8/20\n",
            "492/492 [==============================] - 308s 626ms/step - loss: 2.1087 - accuracy: 0.3841 - val_loss: 1.6111 - val_accuracy: 0.4359\n",
            "Epoch 9/20\n",
            "492/492 [==============================] - 303s 616ms/step - loss: 1.8997 - accuracy: 0.3923 - val_loss: 1.8454 - val_accuracy: 0.4530\n",
            "Epoch 10/20\n",
            "492/492 [==============================] - 304s 618ms/step - loss: 1.9978 - accuracy: 0.4207 - val_loss: 1.6113 - val_accuracy: 0.4957\n",
            "Epoch 11/20\n",
            "492/492 [==============================] - 308s 625ms/step - loss: 1.9695 - accuracy: 0.4228 - val_loss: 1.8366 - val_accuracy: 0.5983\n",
            "Epoch 12/20\n",
            "492/492 [==============================] - 299s 607ms/step - loss: 1.7776 - accuracy: 0.4533 - val_loss: 1.9410 - val_accuracy: 0.5043\n",
            "Epoch 13/20\n",
            "492/492 [==============================] - 307s 624ms/step - loss: 2.4805 - accuracy: 0.4228 - val_loss: 2.8270 - val_accuracy: 0.4103\n",
            "Epoch 14/20\n",
            "492/492 [==============================] - 311s 631ms/step - loss: 2.0088 - accuracy: 0.4472 - val_loss: 1.1861 - val_accuracy: 0.6410\n",
            "Epoch 15/20\n",
            "492/492 [==============================] - 297s 604ms/step - loss: 2.0395 - accuracy: 0.4533 - val_loss: 5.6476 - val_accuracy: 0.4188\n",
            "Epoch 16/20\n",
            "492/492 [==============================] - 315s 641ms/step - loss: 2.1905 - accuracy: 0.4553 - val_loss: 1.7056 - val_accuracy: 0.4701\n",
            "Epoch 17/20\n",
            "492/492 [==============================] - 308s 625ms/step - loss: 2.1183 - accuracy: 0.4736 - val_loss: 2.1068 - val_accuracy: 0.4701\n",
            "Epoch 18/20\n",
            "492/492 [==============================] - 308s 625ms/step - loss: 1.9361 - accuracy: 0.5102 - val_loss: 2.6485 - val_accuracy: 0.4786\n",
            "Epoch 19/20\n",
            "492/492 [==============================] - 308s 626ms/step - loss: 1.9377 - accuracy: 0.4939 - val_loss: 2.6964 - val_accuracy: 0.4786\n",
            "Epoch 20/20\n",
            "492/492 [==============================] - 307s 624ms/step - loss: 2.1486 - accuracy: 0.4858 - val_loss: 3.3585 - val_accuracy: 0.4530\n"
          ]
        },
        {
          "output_type": "execute_result",
          "data": {
            "text/plain": [
              "<keras.callbacks.History at 0x7f39e2ebf6d0>"
            ]
          },
          "metadata": {},
          "execution_count": 16
        }
      ],
      "source": [
        "#modelin eğitimi\n",
        "model.fit_generator(\n",
        "    train_generator,\n",
        "    steps_per_epoch=train_ornek_sayisi // batch_size,\n",
        "    epochs=epochs,\n",
        "    validation_data=validation_generator,\n",
        "    validation_steps=validation_ornek_sayisi // batch_size\n",
        "\n",
        ")"
      ]
    },
    {
      "cell_type": "code",
      "source": [
        "model.save_weights('/content/gdrive/MyDrive/ilac15/model.h5')"
      ],
      "metadata": {
        "id": "mgbTEzRPYpRW"
      },
      "execution_count": null,
      "outputs": []
    },
    {
      "cell_type": "code",
      "source": [
        "model.save('/content/gdrive/MyDrive/ilac15/model_tam.h5')"
      ],
      "metadata": {
        "id": "1S4M00Ez2nwC"
      },
      "execution_count": null,
      "outputs": []
    },
    {
      "cell_type": "code",
      "source": [
        "from tensorflow.keras.preprocessing.image import load_img, img_to_array\n",
        "import numpy as np\n",
        "\n",
        "model.load_weights('model.h5')\n",
        "img=load_img('/content/gdrive/MyDrive/deneme 2.2.1/resim2.jpg',grayscale=False, color_mode='rgb',target_size=(img_width,img_height))\n",
        "x=img_to_array(img)\n",
        "prediction=model.predict(x.reshape((1,img_width,img_height,3)),batch_size=32,verbose=0)  #(1,,224,224,3)\n",
        "print(prediction)\n"
      ],
      "metadata": {
        "id": "pw8S6IPWY4pH",
        "colab": {
          "base_uri": "https://localhost:8080/"
        },
        "outputId": "433d1635-0742-4770-920e-f2ff61e249c4"
      },
      "execution_count": null,
      "outputs": [
        {
          "output_type": "stream",
          "name": "stdout",
          "text": [
            "[[0.10322837 0.0863697  0.11476606 0.09810972 0.12894934 0.12148099\n",
            "  0.11487137 0.07316046 0.0638599  0.09520409]]\n"
          ]
        }
      ]
    },
    {
      "cell_type": "code",
      "source": [
        "!pip install tensorflow\n",
        "  # Eğer GPU desteği kullanmak istiyorsanız\n",
        "!pip install tflite\n"
      ],
      "metadata": {
        "colab": {
          "base_uri": "https://localhost:8080/"
        },
        "id": "hrsAUgZJyT0G",
        "outputId": "f48b8caa-8517-4f7d-e18e-809901fe4952"
      },
      "execution_count": null,
      "outputs": [
        {
          "output_type": "stream",
          "name": "stdout",
          "text": [
            "Requirement already satisfied: tensorflow in /usr/local/lib/python3.10/dist-packages (2.12.0)\n",
            "Requirement already satisfied: absl-py>=1.0.0 in /usr/local/lib/python3.10/dist-packages (from tensorflow) (1.4.0)\n",
            "Requirement already satisfied: astunparse>=1.6.0 in /usr/local/lib/python3.10/dist-packages (from tensorflow) (1.6.3)\n",
            "Requirement already satisfied: flatbuffers>=2.0 in /usr/local/lib/python3.10/dist-packages (from tensorflow) (23.5.26)\n",
            "Requirement already satisfied: gast<=0.4.0,>=0.2.1 in /usr/local/lib/python3.10/dist-packages (from tensorflow) (0.4.0)\n",
            "Requirement already satisfied: google-pasta>=0.1.1 in /usr/local/lib/python3.10/dist-packages (from tensorflow) (0.2.0)\n",
            "Requirement already satisfied: grpcio<2.0,>=1.24.3 in /usr/local/lib/python3.10/dist-packages (from tensorflow) (1.56.0)\n",
            "Requirement already satisfied: h5py>=2.9.0 in /usr/local/lib/python3.10/dist-packages (from tensorflow) (3.8.0)\n",
            "Requirement already satisfied: jax>=0.3.15 in /usr/local/lib/python3.10/dist-packages (from tensorflow) (0.4.10)\n",
            "Requirement already satisfied: keras<2.13,>=2.12.0 in /usr/local/lib/python3.10/dist-packages (from tensorflow) (2.12.0)\n",
            "Requirement already satisfied: libclang>=13.0.0 in /usr/local/lib/python3.10/dist-packages (from tensorflow) (16.0.0)\n",
            "Requirement already satisfied: numpy<1.24,>=1.22 in /usr/local/lib/python3.10/dist-packages (from tensorflow) (1.22.4)\n",
            "Requirement already satisfied: opt-einsum>=2.3.2 in /usr/local/lib/python3.10/dist-packages (from tensorflow) (3.3.0)\n",
            "Requirement already satisfied: packaging in /usr/local/lib/python3.10/dist-packages (from tensorflow) (23.1)\n",
            "Requirement already satisfied: protobuf!=4.21.0,!=4.21.1,!=4.21.2,!=4.21.3,!=4.21.4,!=4.21.5,<5.0.0dev,>=3.20.3 in /usr/local/lib/python3.10/dist-packages (from tensorflow) (3.20.3)\n",
            "Requirement already satisfied: setuptools in /usr/local/lib/python3.10/dist-packages (from tensorflow) (67.7.2)\n",
            "Requirement already satisfied: six>=1.12.0 in /usr/local/lib/python3.10/dist-packages (from tensorflow) (1.16.0)\n",
            "Requirement already satisfied: tensorboard<2.13,>=2.12 in /usr/local/lib/python3.10/dist-packages (from tensorflow) (2.12.3)\n",
            "Requirement already satisfied: tensorflow-estimator<2.13,>=2.12.0 in /usr/local/lib/python3.10/dist-packages (from tensorflow) (2.12.0)\n",
            "Requirement already satisfied: termcolor>=1.1.0 in /usr/local/lib/python3.10/dist-packages (from tensorflow) (2.3.0)\n",
            "Requirement already satisfied: typing-extensions>=3.6.6 in /usr/local/lib/python3.10/dist-packages (from tensorflow) (4.6.3)\n",
            "Requirement already satisfied: wrapt<1.15,>=1.11.0 in /usr/local/lib/python3.10/dist-packages (from tensorflow) (1.14.1)\n",
            "Requirement already satisfied: tensorflow-io-gcs-filesystem>=0.23.1 in /usr/local/lib/python3.10/dist-packages (from tensorflow) (0.32.0)\n",
            "Requirement already satisfied: wheel<1.0,>=0.23.0 in /usr/local/lib/python3.10/dist-packages (from astunparse>=1.6.0->tensorflow) (0.40.0)\n",
            "Requirement already satisfied: ml-dtypes>=0.1.0 in /usr/local/lib/python3.10/dist-packages (from jax>=0.3.15->tensorflow) (0.2.0)\n",
            "Requirement already satisfied: scipy>=1.7 in /usr/local/lib/python3.10/dist-packages (from jax>=0.3.15->tensorflow) (1.10.1)\n",
            "Requirement already satisfied: google-auth<3,>=1.6.3 in /usr/local/lib/python3.10/dist-packages (from tensorboard<2.13,>=2.12->tensorflow) (2.17.3)\n",
            "Requirement already satisfied: google-auth-oauthlib<1.1,>=0.5 in /usr/local/lib/python3.10/dist-packages (from tensorboard<2.13,>=2.12->tensorflow) (1.0.0)\n",
            "Requirement already satisfied: markdown>=2.6.8 in /usr/local/lib/python3.10/dist-packages (from tensorboard<2.13,>=2.12->tensorflow) (3.4.3)\n",
            "Requirement already satisfied: requests<3,>=2.21.0 in /usr/local/lib/python3.10/dist-packages (from tensorboard<2.13,>=2.12->tensorflow) (2.27.1)\n",
            "Requirement already satisfied: tensorboard-data-server<0.8.0,>=0.7.0 in /usr/local/lib/python3.10/dist-packages (from tensorboard<2.13,>=2.12->tensorflow) (0.7.1)\n",
            "Requirement already satisfied: werkzeug>=1.0.1 in /usr/local/lib/python3.10/dist-packages (from tensorboard<2.13,>=2.12->tensorflow) (2.3.6)\n",
            "Requirement already satisfied: cachetools<6.0,>=2.0.0 in /usr/local/lib/python3.10/dist-packages (from google-auth<3,>=1.6.3->tensorboard<2.13,>=2.12->tensorflow) (5.3.1)\n",
            "Requirement already satisfied: pyasn1-modules>=0.2.1 in /usr/local/lib/python3.10/dist-packages (from google-auth<3,>=1.6.3->tensorboard<2.13,>=2.12->tensorflow) (0.3.0)\n",
            "Requirement already satisfied: rsa<5,>=3.1.4 in /usr/local/lib/python3.10/dist-packages (from google-auth<3,>=1.6.3->tensorboard<2.13,>=2.12->tensorflow) (4.9)\n",
            "Requirement already satisfied: requests-oauthlib>=0.7.0 in /usr/local/lib/python3.10/dist-packages (from google-auth-oauthlib<1.1,>=0.5->tensorboard<2.13,>=2.12->tensorflow) (1.3.1)\n",
            "Requirement already satisfied: urllib3<1.27,>=1.21.1 in /usr/local/lib/python3.10/dist-packages (from requests<3,>=2.21.0->tensorboard<2.13,>=2.12->tensorflow) (1.26.16)\n",
            "Requirement already satisfied: certifi>=2017.4.17 in /usr/local/lib/python3.10/dist-packages (from requests<3,>=2.21.0->tensorboard<2.13,>=2.12->tensorflow) (2023.5.7)\n",
            "Requirement already satisfied: charset-normalizer~=2.0.0 in /usr/local/lib/python3.10/dist-packages (from requests<3,>=2.21.0->tensorboard<2.13,>=2.12->tensorflow) (2.0.12)\n",
            "Requirement already satisfied: idna<4,>=2.5 in /usr/local/lib/python3.10/dist-packages (from requests<3,>=2.21.0->tensorboard<2.13,>=2.12->tensorflow) (3.4)\n",
            "Requirement already satisfied: MarkupSafe>=2.1.1 in /usr/local/lib/python3.10/dist-packages (from werkzeug>=1.0.1->tensorboard<2.13,>=2.12->tensorflow) (2.1.3)\n",
            "Requirement already satisfied: pyasn1<0.6.0,>=0.4.6 in /usr/local/lib/python3.10/dist-packages (from pyasn1-modules>=0.2.1->google-auth<3,>=1.6.3->tensorboard<2.13,>=2.12->tensorflow) (0.5.0)\n",
            "Requirement already satisfied: oauthlib>=3.0.0 in /usr/local/lib/python3.10/dist-packages (from requests-oauthlib>=0.7.0->google-auth-oauthlib<1.1,>=0.5->tensorboard<2.13,>=2.12->tensorflow) (3.2.2)\n",
            "Collecting tflite\n",
            "  Downloading tflite-2.10.0-py2.py3-none-any.whl (123 kB)\n",
            "\u001b[2K     \u001b[90m━━━━━━━━━━━━━━━━━━━━━━━━━━━━━━━━━━━━━━━\u001b[0m \u001b[32m123.6/123.6 kB\u001b[0m \u001b[31m4.0 MB/s\u001b[0m eta \u001b[36m0:00:00\u001b[0m\n",
            "\u001b[?25hRequirement already satisfied: flatbuffers in /usr/local/lib/python3.10/dist-packages (from tflite) (23.5.26)\n",
            "Requirement already satisfied: numpy in /usr/local/lib/python3.10/dist-packages (from tflite) (1.22.4)\n",
            "Installing collected packages: tflite\n",
            "Successfully installed tflite-2.10.0\n"
          ]
        }
      ]
    },
    {
      "cell_type": "code",
      "source": [
        "from google.colab import drive\n",
        "drive.mount('/content/drive')\n"
      ],
      "metadata": {
        "colab": {
          "base_uri": "https://localhost:8080/"
        },
        "id": "_Lp1HoKM06x0",
        "outputId": "b7dc5478-4368-4ff6-e18b-d665462f1669"
      },
      "execution_count": null,
      "outputs": [
        {
          "output_type": "stream",
          "name": "stdout",
          "text": [
            "Mounted at /content/drive\n"
          ]
        }
      ]
    },
    {
      "cell_type": "code",
      "source": [
        "import tensorflow as tf\n",
        "\n",
        "# Kaynak ve hedef dosya yollarını belirtin\n",
        "source_model_path = '/content/gdrive/MyDrive/ilac15/model_tam.h5'\n",
        "tflite_model_path = '/content/gdrive/MyDrive/ilac15/model.tflite'\n",
        "\n",
        "# TensorFlow Keras modelini yükleyin\n",
        "model = tf.keras.models.load_model(source_model_path)\n",
        "\n",
        "# TensorFlow Lite Converter'ı kullanarak dönüştürme yapın\n",
        "converter = tf.lite.TFLiteConverter.from_keras_model(model)\n",
        "tflite_model = converter.convert()\n",
        "\n",
        "# Dönüştürülen modeli .tflite dosyasına kaydedin\n",
        "with open(tflite_model_path, 'wb') as f:\n",
        "    f.write(tflite_model)\n"
      ],
      "metadata": {
        "colab": {
          "base_uri": "https://localhost:8080/"
        },
        "id": "VqyCjMa_zeYH",
        "outputId": "fc3b3145-b064-426c-c514-e5ff589bcf77"
      },
      "execution_count": null,
      "outputs": [
        {
          "output_type": "stream",
          "name": "stderr",
          "text": [
            "WARNING:absl:Found untraced functions such as _jit_compiled_convolution_op, _jit_compiled_convolution_op, _jit_compiled_convolution_op, _jit_compiled_convolution_op, _update_step_xla while saving (showing 5 of 5). These functions will not be directly callable after loading.\n"
          ]
        }
      ]
    }
  ],
  "metadata": {
    "accelerator": "GPU",
    "colab": {
      "provenance": [],
      "authorship_tag": "ABX9TyPCrSBvrN4klE4p7S7Gro1o",
      "include_colab_link": true
    },
    "kernelspec": {
      "display_name": "Python 3",
      "name": "python3"
    },
    "language_info": {
      "name": "python"
    }
  },
  "nbformat": 4,
  "nbformat_minor": 0
}